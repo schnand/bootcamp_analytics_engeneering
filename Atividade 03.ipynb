{
 "cells": [
  {
   "attachments": {},
   "cell_type": "markdown",
   "id": "ebfbea4e",
   "metadata": {},
   "source": [
    "# Atividade 3\n",
    "\n",
    "Faça tudo via dbt. \n",
    "\n",
    "Envia como resposta:\n",
    "- A query SQL\n",
    "- Comando utilizado via terminal no `dbt`\n",
    "- Um print do resultado no próprio notebook, para isso é necessário criar uma pasta no repositório onde serão armazenadas as imagens, e para inserir no notebook é necessário criar uma célula `markdown` e inserir o seguinte comando: \n",
    "\n",
    "```markdown\n",
    "![Nome da Foto](path/para/imagem)\n",
    "```"
   ]
  },
  {
   "attachments": {},
   "cell_type": "markdown",
   "id": "c0c42967",
   "metadata": {},
   "source": [
    "1. Crie uma tabela `orders_by_year` a partir de `orders` que agrupa a quantidade de pedidos por ano, considerando a coluna `order_approved_at`"
   ]
  },
  {
   "attachments": {},
   "cell_type": "markdown",
   "id": "f3aa3f54",
   "metadata": {},
   "source": [
    "    Comando terminal\n",
    "\n",
    "`` dbt run --models shop.orders_by_year ``\n",
    "\n"
   ]
  },
  {
   "attachments": {},
   "cell_type": "markdown",
   "id": "f49f28e9",
   "metadata": {},
   "source": [
    "``` sql\n",
    "{{ config(materialized='table') }}\n",
    "\n",
    "   SELECT count(*) as qtde_pedidos,\n",
    "       EXTRACT(YEAR FROM order_approved_at) as ano\n",
    "FROM `dbt-shop-anderson.dbt_shop.orders` \n",
    "group by EXTRACT(YEAR FROM order_approved_at) \n",
    "\n",
    "```"
   ]
  },
  {
   "attachments": {},
   "cell_type": "markdown",
   "id": "a1b0ea3f",
   "metadata": {},
   "source": [
    "![Alt text](imagens/questao1.png)"
   ]
  },
  {
   "attachments": {},
   "cell_type": "markdown",
   "id": "aa520524",
   "metadata": {},
   "source": [
    "2. Crie uma `view` que agrega os totais de pedidos por estado. Considere as tabelas _customers_ para obter os estados (coluna _customer_state_) e _orders_ para contabilizar a quantidade de pedidos."
   ]
  },
  {
   "attachments": {},
   "cell_type": "markdown",
   "id": "8c0a3c06",
   "metadata": {},
   "source": [
    "    Comando terminal\n",
    "\n",
    "`` dbt run --models shop.orders_by_state ``"
   ]
  },
  {
   "attachments": {},
   "cell_type": "markdown",
   "id": "5182fa47",
   "metadata": {},
   "source": [
    "``` sql\n",
    "SELECT count(b.order_id) as qtde_pedidos,\n",
    "       customer_state\n",
    "FROM `dbt-shop-anderson.dbt_shop.customers` a inner join \n",
    "`dbt-shop-anderson.dbt_shop.orders` b on a.customer_id = b.customer_id\n",
    "group by customer_state \n",
    "\n",
    "```"
   ]
  },
  {
   "attachments": {},
   "cell_type": "markdown",
   "id": "7009aac9",
   "metadata": {},
   "source": [
    "![Q2](imagens/questao2.png)"
   ]
  },
  {
   "attachments": {},
   "cell_type": "markdown",
   "id": "54e0e5f1",
   "metadata": {},
   "source": [
    "3. De acordo com o resultado do exercício 2 retorne apenas os estados que tem mais de 5000 pedidos, esse número deve ser passado via variável `number_of_orders` do `dbt`."
   ]
  },
  {
   "attachments": {},
   "cell_type": "markdown",
   "id": "b0c49758",
   "metadata": {},
   "source": [
    "    Comando terminal\n",
    "\n",
    "`` dbt run --models shop.orders_by_state_5000 --vars \"{'qtde_pedidos':'5000'}\" ``"
   ]
  },
  {
   "attachments": {},
   "cell_type": "markdown",
   "id": "4b60aad6",
   "metadata": {},
   "source": [
    "``` sql\n",
    "select * from `dataset_anderson.orders_by_state` \n",
    "where qtde_pedidos > CAST('{{ var(\"qtde_pedidos\") }}' as INT64)\n",
    "\n",
    "```"
   ]
  },
  {
   "attachments": {},
   "cell_type": "markdown",
   "id": "d4707e35",
   "metadata": {},
   "source": [
    "![Q3](imagens/questao3.png)"
   ]
  },
  {
   "attachments": {},
   "cell_type": "markdown",
   "id": "9c3ad0cc",
   "metadata": {},
   "source": [
    "4. Crie uma `view` chamada `customers_by_region` que utiliza os dados da tabela `customers`. A visão deve realizar uma agregação por região do Brasil (Norte, Nordeste, Sudeste, Centro Oeste e Sul) e contar o número de clientes em cada uma delas."
   ]
  },
  {
   "attachments": {},
   "cell_type": "markdown",
   "id": "bf8cd1a7",
   "metadata": {},
   "source": [
    "    Comando terminal\n",
    "\n",
    "`` dbt run --models shop.customers_by_region ``"
   ]
  },
  {
   "attachments": {},
   "cell_type": "markdown",
   "id": "d32e5123",
   "metadata": {},
   "source": [
    "``` sql\n",
    "SELECT \n",
    "  CASE \n",
    "    WHEN customer_state IN ('AM', 'AC', 'AP', 'PA', 'RO', 'RR', 'TO') THEN 'Norte'\n",
    "    WHEN customer_state IN ('AL', 'BA', 'CE', 'MA', 'PB', 'PE', 'PI', 'RN', 'SE') THEN 'Nordeste'\n",
    "    WHEN customer_state IN ('ES', 'MG', 'RJ', 'SP') THEN 'Sudeste'\n",
    "    WHEN customer_state IN ('DF', 'GO', 'MT', 'MS') THEN 'Centro-Oeste'\n",
    "    WHEN customer_state IN ('PR', 'RS', 'SC') THEN 'Sul'\n",
    "    ELSE 'Outro' \n",
    "  END AS region,\n",
    "  COUNT(distinct(customer_unique_id)) AS num_customers\n",
    "FROM `dbt-shop-anderson.dbt_shop.customers` \n",
    "GROUP BY region\n",
    "\n",
    "```"
   ]
  },
  {
   "attachments": {},
   "cell_type": "markdown",
   "id": "6be5963e",
   "metadata": {},
   "source": [
    "![Q4](imagens/questao4.png)"
   ]
  },
  {
   "attachments": {},
   "cell_type": "markdown",
   "id": "d4c16290",
   "metadata": {},
   "source": [
    "5. Crie uma tabela `items_costs` que contenha o preço total de um item (soma do valor do produto com o frete)."
   ]
  },
  {
   "attachments": {},
   "cell_type": "markdown",
   "id": "4f188674",
   "metadata": {},
   "source": [
    "    Comando terminal\n",
    "\n",
    "`` dbt run --models shop.items_costs ``"
   ]
  },
  {
   "attachments": {},
   "cell_type": "markdown",
   "id": "75afc763",
   "metadata": {},
   "source": [
    "``` sql\n",
    " {{ config(materialized='table') }}\n",
    "\n",
    "SELECT  \n",
    "*,\n",
    "(price + freight_value) as preco_total\n",
    "\n",
    "FROM `dbt-shop-anderson.dbt_shop.items` \n",
    "\n",
    "```"
   ]
  },
  {
   "attachments": {},
   "cell_type": "markdown",
   "id": "a785ab02",
   "metadata": {},
   "source": [
    "![Q5](imagens/questao5.png)"
   ]
  },
  {
   "attachments": {},
   "cell_type": "markdown",
   "id": "08cc4c02",
   "metadata": {},
   "source": [
    "6. Crie uma `view` com o nome `orders_shipped_costs`, você deve calcular o preço total do pedido somado com o frete, apenas para pedidos enviado (shipped)."
   ]
  },
  {
   "attachments": {},
   "cell_type": "markdown",
   "id": "14f20544",
   "metadata": {},
   "source": [
    "    Comando terminal\n",
    "\n",
    "`` dbt run --models shop.orders_shipped_costs ``"
   ]
  },
  {
   "attachments": {},
   "cell_type": "markdown",
   "id": "b0c2950f",
   "metadata": {},
   "source": [
    "``` sql\n",
    " {{ config(materialized='table') }}\n",
    "\n",
    "SELECT \n",
    "orders.order_id,\n",
    "orders.customer_id,\n",
    "orders.order_status,\n",
    "sum(price) + sum(freight_value) as preco_total\n",
    "FROM `dbt-shop-anderson.dbt_shop.orders` orders \n",
    "inner join `dbt-shop-anderson.dbt_shop.items` items\n",
    "on items.order_id = orders.order_id \n",
    "--and orders.order_status = 'shipped' \n",
    "--and orders.order_id = '053245dc8f6f668c40923c3aedcd384e'\n",
    "group by orders.order_id,\n",
    "orders.customer_id,\n",
    "orders.order_status\n",
    "\n",
    "-- Fernando não identifiquei a necessidade de fazer uma sub query, pois analisando as tabelas entendi que o frete esta atrelado ao item do pedido, já o status de enviado ou não está no nível do pedido e não do item como o frete, podemos falar na última aula sobre meu entendimento e corrigir se for o caso, ok?\n",
    "\n",
    "```"
   ]
  },
  {
   "attachments": {},
   "cell_type": "markdown",
   "id": "33e711a6",
   "metadata": {},
   "source": [
    "![Q6](imagens/questao6.png)"
   ]
  },
  {
   "cell_type": "code",
   "execution_count": 1,
   "id": "7cd135fa",
   "metadata": {},
   "outputs": [
    {
     "name": "stderr",
     "output_type": "stream",
     "text": [
      "Core:\n",
      "  - installed: 1.4.6\n",
      "  - latest:    1.4.6 - \u001b[32mUp to date!\u001b[0m\n",
      "\n",
      "Plugins:\n",
      "  - bigquery: 1.4.3 - \u001b[32mUp to date!\u001b[0m\n"
     ]
    }
   ],
   "source": [
    "!dbt --version"
   ]
  },
  {
   "cell_type": "code",
   "execution_count": null,
   "id": "31567e8e",
   "metadata": {},
   "outputs": [],
   "source": []
  }
 ],
 "metadata": {
  "kernelspec": {
   "display_name": "Python 3",
   "language": "python",
   "name": "python3"
  },
  "language_info": {
   "codemirror_mode": {
    "name": "ipython",
    "version": 3
   },
   "file_extension": ".py",
   "mimetype": "text/x-python",
   "name": "python",
   "nbconvert_exporter": "python",
   "pygments_lexer": "ipython3",
   "version": "3.10.10"
  },
  "vscode": {
   "interpreter": {
    "hash": "2115304910cda9ae766ccce2dd46e1f9e312c7860114925bd4e355c98fe7abd0"
   }
  }
 },
 "nbformat": 4,
 "nbformat_minor": 5
}
